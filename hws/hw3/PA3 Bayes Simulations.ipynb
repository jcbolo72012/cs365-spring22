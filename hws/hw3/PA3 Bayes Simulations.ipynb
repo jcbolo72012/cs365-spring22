{
 "cells": [
  {
   "cell_type": "markdown",
   "metadata": {},
   "source": [
    "# PA3 Bayes Simulation\n",
    "\n",
    "Through this coding exercise you will hopefully gain some appreciation for what Bayes theorem models in real world examples. \n",
    "To this end, we will be using python to simulate real life scenarios and compare the probabilities from the simulations\n",
    "to those from analytical Bayes Theorem\n",
    "\n",
    "#### What to turn in:\n",
    "1. Your copy of this .ipynb file that includes your answers and simulation code\n",
    "\n",
    "#### Where to turn in:\n",
    "1. Grade scope portal\n",
    "\n",
    "#### When to turn in:\n",
    "1. 5 PM EST 2/18"
   ]
  },
  {
   "cell_type": "code",
   "execution_count": 2,
   "metadata": {},
   "outputs": [],
   "source": [
    "# free free to import other packages \n",
    "import numpy as np"
   ]
  },
  {
   "cell_type": "markdown",
   "metadata": {},
   "source": [
    "## P1: Disease and testing\n",
    "\n",
    "Let us say that a common bacteria infects about 5% of the population in a small city in the United States. A new test has been created to detect the infection. If the patient is infected, the test will give a positive result 90% of the time. On the other hand, the test will give a positive result 6% of the time if the person is not infected. What is the probability that the person is infected given a positive test?\n",
    "\n",
    "1. Compute your answer analytically.\n",
    "2. Compute your answer using simulation. You may assume there exist 10000 people. "
   ]
  },
  {
   "cell_type": "markdown",
   "metadata": {},
   "source": [
    "### Analytical Answer Cell (double click to edit)\n",
    "\n",
    "Analytically: Positive Prior = 0.05, Negative Prior = 0.95, Probability positive if infected: 0.9, Probability positive if not infected: 0.06\n",
    "Bayes theorem states P(X|Y) = P(Y)*P(Y|X)/(P(Y)*P(Y|X) + P(Y)*P(Y|~X))\n",
    "\n",
    "So plugging in these values where X is testing positive and Y is being infected, we find:\n",
    "\n",
    "P(testing positive | infection) = 0.05*0.9/(0.05*0.9 + 0.06*0.95) = 0.4411"
   ]
  },
  {
   "cell_type": "code",
   "execution_count": 11,
   "metadata": {},
   "outputs": [
    {
     "name": "stdout",
     "output_type": "stream",
     "text": [
      "P(Positive Test|Infected) =  0.431\n"
     ]
    }
   ],
   "source": [
    "#Coding answer\n",
    "\n",
    "n = 10000\n",
    "positive_inf = 0\n",
    "negative_inf = 0\n",
    "positive_healthy = 0\n",
    "negative_healthy = 0\n",
    "\n",
    "for person in range(n):\n",
    "    if np.random.uniform() <= 0.05: # infected\n",
    "        if np.random.uniform() <=0.9: # positive\n",
    "            positive_inf += 1\n",
    "        else:\n",
    "            negative_inf += 1\n",
    "    else: # healthy\n",
    "        if np.random.uniform() <=0.06: # positive\n",
    "            positive_healthy += 1\n",
    "        else:\n",
    "            negative_healthy += 1\n",
    "\n",
    "print('P(Positive Test|Infected) = ',positive_inf / (positive_inf + positive_healthy))\n"
   ]
  },
  {
   "cell_type": "markdown",
   "metadata": {},
   "source": [
    "## P2: Trees\n",
    "\n",
    "A local forest contains a series of tree species: elm, maples, and other. Unfortunately, 30% of all trees exhibit some form of decay. Of the ones that do exhibit decay, 15% are elms, 80% are maples, and the rest are other. Of the trees that do *not* exhibit decay, 20% are elm, 10% are maple, and 70% are other. If we were to  select a tree uniformly at random:\n",
    "\n",
    "1. What is the probability the tree I selected is maple?  \n",
    "2. What is the probability that the tree I selected shows decay, given it is a maple tree? \n",
    "\n",
    "Answer 1.,2. both analytically, as well as by writing Python code. You may assume in your simulation, that the number of trees is 10000.\n"
   ]
  },
  {
   "cell_type": "markdown",
   "metadata": {},
   "source": [
    "### Analytic Answer (Double click to edit)\n",
    "2.1:\n",
    "\n",
    "Priors:\n",
    "P(X) = P(Y|X) * P(Y) / (P(Y|X)*P(Y) + P(Y|~X)*P(Y))\n",
    "P(maple) = (P(maple given decay)*P(decay) + P(maple given no decay)*P(no decay))\n",
    "\n",
    "P(maple) = (0.8*0.3 + 0.1*0.7) = 0.31\n",
    "\n",
    "2.2:\n",
    "\n",
    "P(Y|X) = P(X|Y) * P(Y) / (P(X|Y)*P(Y) + P(X| not Y)*P( not Y))\n",
    "P(decay | maple) = 0.8*0.3 / (0.8*0.3  + 0.1*0.7) = 0.7742\n",
    "\n"
   ]
  },
  {
   "cell_type": "code",
   "execution_count": 20,
   "metadata": {},
   "outputs": [
    {
     "name": "stdout",
     "output_type": "stream",
     "text": [
      "2.1: P(maple) =  0.3048\n",
      "2.2: P(decay|maple) =  0.7788713910761155\n"
     ]
    }
   ],
   "source": [
    "#coding answer\n",
    "n = 10000\n",
    "decayed_maples =0\n",
    "healthy_maples=0\n",
    "decayed_other=0\n",
    "healthy_other=0\n",
    "for x in range(n):\n",
    "    if np.random.uniform() <= 0.3:\n",
    "        if np.random.uniform() <=0.8:\n",
    "            decayed_maples += 1\n",
    "        else:\n",
    "            decayed_other += 1\n",
    "    else:\n",
    "        if np.random.uniform() <=0.1:\n",
    "            healthy_maples += 1\n",
    "        else:\n",
    "            healthy_other += 1\n",
    "\n",
    "print('2.1: P(maple) = ', (healthy_maples + decayed_maples)/n)\n",
    "print('2.2: P(decay|maple) = ', (decayed_maples)/(healthy_maples + decayed_maples))"
   ]
  },
  {
   "cell_type": "markdown",
   "metadata": {},
   "source": [
    "## Ham/Spam Email Algorithm Analysis\n",
    "\n",
    "Let’s say we created a new machine learning algorithm for the detection of spam email. It correctly identifies 80% of spam emails as spam. However, it falsely identifies 40% of ham emails as spam. There are three testing data sets to assess our algorithm on. The first test set has 25% of the emails as spam, the second test set has 50% of the emails as spam, and the third data set has 75% of the emails as spam. For each data set, compute the following probabilities both analytically and by simulation. Assume that the number of emails for each of the three tests sets is 10,000.\n",
    "\n",
    "* What is the probability that the email is spam given that my algorithm classifies it as spam? \n",
    "\n",
    "Note: There is no need to replicate your code. Write your code in the form of appropriately defined functions.\n"
   ]
  },
  {
   "cell_type": "markdown",
   "metadata": {},
   "source": [
    "### Analytic Answer (Double click to edit)\n",
    "\n",
    "First Dataset:\n",
    "P(spam | classified spam) = P(Classified spam | spam)*spam / (P(Classified spam | spam)*spam + P(Classified spam | not spam)*not spam)\n",
    "\n",
    "= 0.8*0.25 / (0.8*0.25 + 0.4*0.75) = 0.4\n",
    "Second Dataset:\n",
    "P(spam | classified spam) = 0.8*0.50 / (0.8*0.50 + 0.4*0.5) = 0.6666\n",
    "\n",
    "Third Dataset:\n",
    "P(spam | classified spam) = 0.8*0.250 / (0.8*0.75 + 0.4*0.25) = 0.86\n"
   ]
  },
  {
   "cell_type": "code",
   "execution_count": 22,
   "metadata": {},
   "outputs": [
    {
     "name": "stdout",
     "output_type": "stream",
     "text": [
      "Probability spam given classified as spam 0.40582366116880475 for dataset with 0.25 percent spam\n",
      "Probability spam given classified as spam 0.6596596596596597 for dataset with 0.5 percent spam\n",
      "Probability spam given classified as spam 0.8558532741080384 for dataset with 0.75 percent spam\n"
     ]
    }
   ],
   "source": [
    "#Coding Answer\n",
    "\n",
    "def spam_probability(spam_percent):\n",
    "    n = 10000\n",
    "    spam_as_spam =0\n",
    "    spam_as_ham=0\n",
    "    ham_as_ham=0\n",
    "    ham_as_spam=0\n",
    "    for x in range(n):\n",
    "        if np.random.uniform() <= spam_percent:\n",
    "            if np.random.uniform() <=0.8:\n",
    "                spam_as_spam += 1\n",
    "            else:\n",
    "                spam_as_ham += 1\n",
    "        else:\n",
    "            if np.random.uniform() <=0.4:\n",
    "                ham_as_spam += 1\n",
    "            else:\n",
    "                ham_as_ham += 1\n",
    "\n",
    "    print('Probability spam given classified as spam', spam_as_spam /(spam_as_spam + ham_as_spam ), 'for dataset with', spam_percent,'percent spam')\n",
    "\n",
    "for perc in [.25,.5,.75]:\n",
    "    spam_probability(perc)\n"
   ]
  }
 ],
 "metadata": {
  "kernelspec": {
   "display_name": "Python 3",
   "language": "python",
   "name": "python3"
  },
  "language_info": {
   "codemirror_mode": {
    "name": "ipython",
    "version": 3
   },
   "file_extension": ".py",
   "mimetype": "text/x-python",
   "name": "python",
   "nbconvert_exporter": "python",
   "pygments_lexer": "ipython3",
   "version": "3.8.0"
  }
 },
 "nbformat": 4,
 "nbformat_minor": 4
}
